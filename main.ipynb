{
 "cells": [
  {
   "cell_type": "code",
   "execution_count": 1,
   "id": "80708280-70f1-44ea-9467-0b25fc2ba236",
   "metadata": {},
   "outputs": [
    {
     "name": "stdout",
     "output_type": "stream",
     "text": [
      "Collecting pandas\n",
      "  Obtaining dependency information for pandas from https://files.pythonhosted.org/packages/11/17/fb1a34f3e73debbc2fd15a01ea17eaab3717943d08463ff4979a4f024b3f/pandas-2.1.4-cp311-cp311-win_amd64.whl.metadata\n",
      "  Downloading pandas-2.1.4-cp311-cp311-win_amd64.whl.metadata (18 kB)\n",
      "Collecting numpy<2,>=1.23.2 (from pandas)\n",
      "  Obtaining dependency information for numpy<2,>=1.23.2 from https://files.pythonhosted.org/packages/99/2b/f7114983d84303019385d93d24d729aedba67be7e083286f114188943cf3/numpy-1.26.3-cp311-cp311-win_amd64.whl.metadata\n",
      "  Using cached numpy-1.26.3-cp311-cp311-win_amd64.whl.metadata (61 kB)\n",
      "Requirement already satisfied: python-dateutil>=2.8.2 in c:\\users\\korog\\appdata\\local\\programs\\python\\python311\\lib\\site-packages (from pandas) (2.8.2)\n",
      "Collecting pytz>=2020.1 (from pandas)\n",
      "  Obtaining dependency information for pytz>=2020.1 from https://files.pythonhosted.org/packages/32/4d/aaf7eff5deb402fd9a24a1449a8119f00d74ae9c2efa79f8ef9994261fc2/pytz-2023.3.post1-py2.py3-none-any.whl.metadata\n",
      "  Downloading pytz-2023.3.post1-py2.py3-none-any.whl.metadata (22 kB)\n",
      "Collecting tzdata>=2022.1 (from pandas)\n",
      "  Obtaining dependency information for tzdata>=2022.1 from https://files.pythonhosted.org/packages/a3/fb/52b62131e21b24ee297e4e95ed41eba29647dad0e0051a92bb66b43c70ff/tzdata-2023.4-py2.py3-none-any.whl.metadata\n",
      "  Downloading tzdata-2023.4-py2.py3-none-any.whl.metadata (1.4 kB)\n",
      "Requirement already satisfied: six>=1.5 in c:\\users\\korog\\appdata\\local\\programs\\python\\python311\\lib\\site-packages (from python-dateutil>=2.8.2->pandas) (1.16.0)\n",
      "Using cached pandas-2.1.4-cp311-cp311-win_amd64.whl (10.6 MB)\n",
      "Using cached numpy-1.26.3-cp311-cp311-win_amd64.whl (15.8 MB)\n",
      "Using cached pytz-2023.3.post1-py2.py3-none-any.whl (502 kB)\n",
      "Using cached tzdata-2023.4-py2.py3-none-any.whl (346 kB)\n",
      "Installing collected packages: pytz, tzdata, numpy, pandas\n",
      "Successfully installed numpy-1.26.3 pandas-2.1.4 pytz-2023.3.post1 tzdata-2023.4\n"
     ]
    },
    {
     "name": "stderr",
     "output_type": "stream",
     "text": [
      "\n",
      "[notice] A new release of pip is available: 23.2.1 -> 23.3.2\n",
      "[notice] To update, run: python.exe -m pip install --upgrade pip\n"
     ]
    },
    {
     "name": "stdout",
     "output_type": "stream",
     "text": [
      "Requirement already satisfied: numpy in c:\\users\\korog\\appdata\\local\\programs\\python\\python311\\lib\\site-packages (1.26.3)\n"
     ]
    },
    {
     "name": "stderr",
     "output_type": "stream",
     "text": [
      "\n",
      "[notice] A new release of pip is available: 23.2.1 -> 23.3.2\n",
      "[notice] To update, run: python.exe -m pip install --upgrade pip\n"
     ]
    },
    {
     "name": "stdout",
     "output_type": "stream",
     "text": [
      "Collecting plotly\n",
      "  Obtaining dependency information for plotly from https://files.pythonhosted.org/packages/a8/07/72953cf70e3bd3a24cbc3e743e6f8539abe6e3e6d83c3c0c83426eaffd39/plotly-5.18.0-py3-none-any.whl.metadata\n",
      "  Downloading plotly-5.18.0-py3-none-any.whl.metadata (7.0 kB)\n",
      "Collecting tenacity>=6.2.0 (from plotly)\n",
      "  Obtaining dependency information for tenacity>=6.2.0 from https://files.pythonhosted.org/packages/f4/f1/990741d5bb2487d529d20a433210ffa136a367751e454214013b441c4575/tenacity-8.2.3-py3-none-any.whl.metadata\n",
      "  Downloading tenacity-8.2.3-py3-none-any.whl.metadata (1.0 kB)\n",
      "Requirement already satisfied: packaging in c:\\users\\korog\\appdata\\local\\programs\\python\\python311\\lib\\site-packages (from plotly) (23.2)\n",
      "Using cached plotly-5.18.0-py3-none-any.whl (15.6 MB)\n",
      "Using cached tenacity-8.2.3-py3-none-any.whl (24 kB)\n",
      "Installing collected packages: tenacity, plotly\n",
      "Successfully installed plotly-5.18.0 tenacity-8.2.3\n"
     ]
    },
    {
     "name": "stderr",
     "output_type": "stream",
     "text": [
      "\n",
      "[notice] A new release of pip is available: 23.2.1 -> 23.3.2\n",
      "[notice] To update, run: python.exe -m pip install --upgrade pip\n"
     ]
    },
    {
     "name": "stdout",
     "output_type": "stream",
     "text": [
      "Collecting scikit-learn\n",
      "  Obtaining dependency information for scikit-learn from https://files.pythonhosted.org/packages/4e/ba/ce9bd1cd4953336a0e213b29cb80bb11816f2a93de8c99f88ef0b446ad0c/scikit_learn-1.3.2-cp311-cp311-win_amd64.whl.metadata\n",
      "  Downloading scikit_learn-1.3.2-cp311-cp311-win_amd64.whl.metadata (11 kB)\n",
      "Requirement already satisfied: numpy<2.0,>=1.17.3 in c:\\users\\korog\\appdata\\local\\programs\\python\\python311\\lib\\site-packages (from scikit-learn) (1.26.3)\n",
      "Collecting scipy>=1.5.0 (from scikit-learn)\n",
      "  Obtaining dependency information for scipy>=1.5.0 from https://files.pythonhosted.org/packages/43/d0/f3cd75b62e1b90f48dbf091261b2fc7ceec14a700e308c50f6a69c83d337/scipy-1.11.4-cp311-cp311-win_amd64.whl.metadata\n",
      "  Downloading scipy-1.11.4-cp311-cp311-win_amd64.whl.metadata (60 kB)\n",
      "     ---------------------------------------- 0.0/60.4 kB ? eta -:--:--\n",
      "     ---------------------------------------- 0.0/60.4 kB ? eta -:--:--\n",
      "     ------ --------------------------------- 10.2/60.4 kB ? eta -:--:--\n",
      "     -------------------------------- ----- 51.2/60.4 kB 525.1 kB/s eta 0:00:01\n",
      "     -------------------------------------- 60.4/60.4 kB 643.1 kB/s eta 0:00:00\n",
      "Collecting joblib>=1.1.1 (from scikit-learn)\n",
      "  Obtaining dependency information for joblib>=1.1.1 from https://files.pythonhosted.org/packages/10/40/d551139c85db202f1f384ba8bcf96aca2f329440a844f924c8a0040b6d02/joblib-1.3.2-py3-none-any.whl.metadata\n",
      "  Downloading joblib-1.3.2-py3-none-any.whl.metadata (5.4 kB)\n",
      "Collecting threadpoolctl>=2.0.0 (from scikit-learn)\n",
      "  Obtaining dependency information for threadpoolctl>=2.0.0 from https://files.pythonhosted.org/packages/81/12/fd4dea011af9d69e1cad05c75f3f7202cdcbeac9b712eea58ca779a72865/threadpoolctl-3.2.0-py3-none-any.whl.metadata\n",
      "  Downloading threadpoolctl-3.2.0-py3-none-any.whl.metadata (10.0 kB)\n",
      "Using cached scikit_learn-1.3.2-cp311-cp311-win_amd64.whl (9.2 MB)\n",
      "Using cached joblib-1.3.2-py3-none-any.whl (302 kB)\n",
      "Using cached scipy-1.11.4-cp311-cp311-win_amd64.whl (44.1 MB)\n",
      "Using cached threadpoolctl-3.2.0-py3-none-any.whl (15 kB)\n",
      "Installing collected packages: threadpoolctl, scipy, joblib, scikit-learn\n",
      "Successfully installed joblib-1.3.2 scikit-learn-1.3.2 scipy-1.11.4 threadpoolctl-3.2.0\n"
     ]
    },
    {
     "name": "stderr",
     "output_type": "stream",
     "text": [
      "\n",
      "[notice] A new release of pip is available: 23.2.1 -> 23.3.2\n",
      "[notice] To update, run: python.exe -m pip install --upgrade pip\n"
     ]
    },
    {
     "name": "stdout",
     "output_type": "stream",
     "text": [
      "Collecting findspark\n",
      "  Downloading findspark-2.0.1-py2.py3-none-any.whl (4.4 kB)\n",
      "Installing collected packages: findspark\n",
      "Successfully installed findspark-2.0.1\n"
     ]
    },
    {
     "name": "stderr",
     "output_type": "stream",
     "text": [
      "\n",
      "[notice] A new release of pip is available: 23.2.1 -> 23.3.2\n",
      "[notice] To update, run: python.exe -m pip install --upgrade pip\n"
     ]
    },
    {
     "name": "stdout",
     "output_type": "stream",
     "text": [
      "Collecting pyspark\n",
      "  Using cached pyspark-3.5.0.tar.gz (316.9 MB)\n",
      "  Installing build dependencies: started\n",
      "  Installing build dependencies: finished with status 'done'\n",
      "  Getting requirements to build wheel: started\n",
      "  Getting requirements to build wheel: finished with status 'done'\n",
      "  Preparing metadata (pyproject.toml): started\n",
      "  Preparing metadata (pyproject.toml): finished with status 'done'\n",
      "Collecting py4j==0.10.9.7 (from pyspark)\n",
      "  Using cached py4j-0.10.9.7-py2.py3-none-any.whl (200 kB)\n",
      "Building wheels for collected packages: pyspark\n",
      "  Building wheel for pyspark (pyproject.toml): started\n",
      "  Building wheel for pyspark (pyproject.toml): finished with status 'done'\n",
      "  Created wheel for pyspark: filename=pyspark-3.5.0-py2.py3-none-any.whl size=317425385 sha256=65616105358c2d866f4db5a6658a7219f2dff521dd23c5e9c33ce22d8636ccab\n",
      "  Stored in directory: c:\\users\\korog\\appdata\\local\\pip\\cache\\wheels\\38\\df\\61\\8c121f50c3cffd77f8178180dd232d90b3b99d1bd61fb6d6be\n",
      "Successfully built pyspark\n",
      "Installing collected packages: py4j, pyspark\n",
      "Successfully installed py4j-0.10.9.7 pyspark-3.5.0\n"
     ]
    },
    {
     "name": "stderr",
     "output_type": "stream",
     "text": [
      "\n",
      "[notice] A new release of pip is available: 23.2.1 -> 23.3.2\n",
      "[notice] To update, run: python.exe -m pip install --upgrade pip\n"
     ]
    }
   ],
   "source": [
    "!pip install pandas\n",
    "!pip install numpy\n",
    "!pip install plotly\n",
    "!pip install scikit-learn\n",
    "!pip install findspark\n",
    "!pip install pyspark"
   ]
  },
  {
   "cell_type": "code",
   "execution_count": 2,
   "id": "3c878620-ee03-4281-8012-9a24c6517a8d",
   "metadata": {},
   "outputs": [],
   "source": [
    "import pandas as pd\n",
    "import pyspark\n",
    "import findspark\n",
    "from pyspark import SparkConf\n",
    "from pyspark.sql import SparkSession\n",
    "from pyspark.ml.recommendation import ALS\n",
    "from pyspark.ml.evaluation import RegressionEvaluator\n",
    "from pyspark.ml.feature import VectorAssembler\n",
    "import socket\n",
    "import platform"
   ]
  },
  {
   "cell_type": "code",
   "execution_count": 3,
   "id": "2d2ad86c-c27b-40a8-9a4f-761ee575d75f",
   "metadata": {},
   "outputs": [
    {
     "name": "stdout",
     "output_type": "stream",
     "text": [
      "Computer IP Address: 192.168.1.194\n",
      "Computer Name: Emre\n",
      "\n",
      "System Information:\n",
      "System: Windows\n",
      "Node (Machine) Name: Emre\n",
      "Release: 10\n",
      "Version: 10.0.22631\n",
      "Machine (Processor): AMD64\n",
      "Processor (CPU): Intel64 Family 6 Model 158 Stepping 10, GenuineIntel\n"
     ]
    }
   ],
   "source": [
    "hostname = socket.gethostname()\n",
    "IP = socket.gethostbyname(hostname)\n",
    "\n",
    "system_info = platform.uname()\n",
    " \n",
    "print(\"Computer IP Address:\", IP)\n",
    "print(\"Computer Name:\", hostname)\n",
    "print(\"\\nSystem Information:\")\n",
    "print(\"System:\", system_info.system)\n",
    "print(\"Node (Machine) Name:\", system_info.node)\n",
    "print(\"Release:\", system_info.release)\n",
    "print(\"Version:\", system_info.version)\n",
    "print(\"Machine (Processor):\", system_info.machine)\n",
    "print(\"Processor (CPU):\", system_info.processor)\n",
    "\n",
    "findspark.init()\n",
    "\n",
    "conf = pyspark.SparkConf()\n",
    "spark= SparkSession.builder.config(conf=conf).getOrCreate()\n",
    "\n",
    "df = spark.read.csv('users_and_ratings.csv', header=True, inferSchema=True)\n",
    "genre_columns = df.columns[2:-2]\n",
    "assembler = VectorAssembler(inputCols=genre_columns, outputCol=\"features\")\n",
    "df = assembler.transform(df)"
   ]
  },
  {
   "cell_type": "code",
   "execution_count": 4,
   "id": "331f23af-c7b4-4f07-bba0-2bd9f9921fcd",
   "metadata": {},
   "outputs": [
    {
     "name": "stdout",
     "output_type": "stream",
     "text": [
      "For rank: 47 / iteration: 10 / lambda: 0.01\n",
      "Root Mean Squared Error (RMSE) = 1.3465874306079695\n",
      "Mean Squarred Error (MSE) = 1.8132977082713728\n",
      "+-------+--------------------+------+----------+\n",
      "|user_id|                name|rating|prediction|\n",
      "+-------+--------------------+------+----------+\n",
      "|    183|Densetsu no Yuush...|     4|  6.321925|\n",
      "|    384|One Piece: Mamore...|     6| 5.1455455|\n",
      "|    385|Magi: Sinbad no B...|     9|  9.011071|\n",
      "|    392|Break Blade 4: Sa...|     6|  7.863145|\n",
      "|    392|Magi: Sinbad no B...|     8|  6.678406|\n",
      "|    392|Densetsu no Yuush...|     9|  7.305724|\n",
      "|    460|Zoku Natsume Yuuj...|     8|  7.450839|\n",
      "|    497|Mobile Suit Gunda...|     8|  9.030138|\n",
      "|    847|Ansatsu Kyoushits...|     9|  8.494466|\n",
      "|    847|    Magic Kaito 1412|     9| 8.0196495|\n",
      "+-------+--------------------+------+----------+\n",
      "only showing top 10 rows\n",
      "\n",
      "+-------+-----------------------------------------------------------------------------------------------------------------------------------------------------------------------------------------------------+\n",
      "|user_id|recommendations                                                                                                                                                                                      |\n",
      "+-------+-----------------------------------------------------------------------------------------------------------------------------------------------------------------------------------------------------+\n",
      "|27     |[{18245, 11.270262}, {8676, 11.157831}, {11235, 11.146134}, {388, 11.061389}, {31757, 11.045874}, {28701, 10.976207}, {2762, 10.938889}, {29830, 10.8964815}, {17389, 10.837955}, {22297, 10.817207}]|\n",
      "|28     |[{5075, 11.216686}, {6547, 9.983491}, {9989, 9.9816675}, {9930, 9.044484}, {18195, 8.986777}, {10620, 8.985111}, {11757, 8.984603}, {9919, 8.972636}, {9253, 8.962392}, {6408, 8.907464}]            |\n",
      "|31     |[{5244, 13.194738}, {3297, 12.228392}, {962, 11.843185}, {477, 11.808703}, {2563, 11.602414}, {1293, 11.390198}, {16782, 11.313617}, {18229, 11.274339}, {486, 11.22509}, {12487, 11.202166}]        |\n",
      "|34     |[{269, 9.953363}, {4189, 9.462267}, {2820, 9.358708}, {32005, 9.30784}, {31149, 9.247708}, {6927, 9.223926}, {2098, 9.124438}, {31490, 9.120845}, {20671, 9.019539}, {4181, 9.007627}]               |\n",
      "|44     |[{2848, 12.573642}, {27947, 11.988178}, {7785, 11.295894}, {1069, 11.245755}, {11981, 11.235975}, {8795, 10.9795475}, {245, 10.936221}, {3002, 10.89054}, {17080, 10.727865}, {4177, 10.672784}]     |\n",
      "|53     |[{18245, 10.895139}, {18195, 10.250544}, {9989, 9.922412}, {1530, 9.918177}, {4181, 9.889161}, {6547, 9.870599}, {852, 9.744301}, {11319, 9.677643}, {1279, 9.661939}, {123, 9.637834}]              |\n",
      "|65     |[{11665, 10.306665}, {5300, 10.2318}, {4789, 10.179167}, {10379, 10.173577}, {8479, 10.1300955}, {4081, 10.051578}, {2251, 10.031241}, {9756, 9.984546}, {15195, 9.968519}, {17249, 9.962761}]       |\n",
      "|76     |[{578, 9.9914055}, {2890, 9.981299}, {164, 9.974524}, {523, 9.454638}, {19115, 9.154591}, {199, 9.133714}, {1878, 9.083812}, {572, 8.936311}, {513, 8.835908}, {160, 8.691813}]                      |\n",
      "|78     |[{4224, 9.983519}, {17949, 9.192256}, {18153, 8.987518}, {29893, 8.857955}, {5244, 8.852743}, {31149, 8.595195}, {10445, 8.381225}, {10050, 8.338284}, {7222, 8.3365965}, {12149, 8.26045}]          |\n",
      "|81     |[{5075, 13.128461}, {5751, 12.281746}, {1579, 12.041583}, {814, 12.021567}, {12149, 11.976286}, {14941, 11.852453}, {485, 11.838189}, {1375, 11.757321}, {2402, 11.743759}, {2752, 11.7041}]         |\n",
      "+-------+-----------------------------------------------------------------------------------------------------------------------------------------------------------------------------------------------------+\n",
      "only showing top 10 rows\n",
      "\n"
     ]
    }
   ],
   "source": [
    "train_df, test_df = df.randomSplit([0.7, 0.3], seed=5024)\n",
    "\n",
    "def als_algo(rank, iter, lm):\n",
    "\n",
    "    als = ALS(\n",
    "        rank=rank,\n",
    "        maxIter=iter,\n",
    "        regParam=lm,\n",
    "        userCol=\"user_id\",\n",
    "        itemCol=\"anime_id\",\n",
    "        ratingCol=\"rating\",\n",
    "        coldStartStrategy=\"drop\",\n",
    "        seed=5024\n",
    "    )\n",
    "\n",
    "    model = als.fit(train_df)\n",
    "\n",
    "    rmse_evaluator = RegressionEvaluator(metricName=\"rmse\", labelCol=\"rating\", predictionCol=\"prediction\")\n",
    "    mse_evaluator = RegressionEvaluator(metricName=\"mse\", labelCol=\"rating\", predictionCol=\"prediction\")\n",
    "    \n",
    "    predictions = model.transform(test_df)\n",
    "    user_recommendations = model.recommendForAllUsers(10)\n",
    "    \n",
    "    rmse = rmse_evaluator.evaluate(predictions)\n",
    "    mse = mse_evaluator.evaluate(predictions)\n",
    "    \n",
    "    print(f\"For rank: {rank} / iteration: {iter} / lambda: {lm}\")\n",
    "    print(f\"Root Mean Squared Error (RMSE) = {rmse}\\nMean Squarred Error (MSE) = {mse}\")\n",
    "    \n",
    "    predictions.select(\"user_id\", \"name\", \"rating\", \"prediction\").show(10)\n",
    "    \n",
    "    user_recommendations.show(10,truncate=False)\n",
    "\n",
    "als_algo(47,10,0.01)"
   ]
  },
  {
   "cell_type": "code",
   "execution_count": null,
   "id": "5c56f1fd-1d77-47cd-afe1-a44d3bb5e647",
   "metadata": {},
   "outputs": [],
   "source": []
  }
 ],
 "metadata": {
  "kernelspec": {
   "display_name": "Python 3 (ipykernel)",
   "language": "python",
   "name": "python3"
  },
  "language_info": {
   "codemirror_mode": {
    "name": "ipython",
    "version": 3
   },
   "file_extension": ".py",
   "mimetype": "text/x-python",
   "name": "python",
   "nbconvert_exporter": "python",
   "pygments_lexer": "ipython3",
   "version": "3.11.7"
  }
 },
 "nbformat": 4,
 "nbformat_minor": 5
}
